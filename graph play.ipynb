{
 "cells": [
  {
   "cell_type": "markdown",
   "id": "dd9ce966",
   "metadata": {},
   "source": [
    "This is me playing with graphs to make them work in my favour"
   ]
  },
  {
   "cell_type": "code",
   "execution_count": 1,
   "id": "6f2b74b6",
   "metadata": {},
   "outputs": [],
   "source": [
    "#importing the packedges needed\n",
    "\n",
    "import matplotlib.pyplot as plt\n",
    "\n",
    "import linecache\n",
    "\n",
    "import numpy as np"
   ]
  },
  {
   "cell_type": "code",
   "execution_count": null,
   "id": "683a7718",
   "metadata": {},
   "outputs": [
    {
     "data": {
      "text/plain": [
       "<function matplotlib.pyplot.show(close=None, block=None)>"
      ]
     },
     "execution_count": 2,
     "metadata": {},
     "output_type": "execute_result"
    },
    {
     "data": {
      "image/png": "[encoded data removed]",
      "text/plain": [
       "<Figure size 640x480 with 1 Axes>"
      ]
     },
     "metadata": {},
     "output_type": "display_data"
    }
   ],
   "source": [
    "#following some examples, example found at w3\n",
    "x = np.array([\"A\", \"B\", \"C\", \"D\"])\n",
    "\n",
    "y = np.array([3, 8, 1, 10])\n",
    "\n",
    "plt.bar(x,y)\n",
    "\n",
    "plt.show"
   ]
  },
  {
   "cell_type": "markdown",
   "id": "8d950230",
   "metadata": {},
   "source": [
    "just testing things so just copying and pasting some of my code"
   ]
  },
  {
   "cell_type": "code",
   "execution_count": 5,
   "id": "d1d24783",
   "metadata": {},
   "outputs": [],
   "source": [
    "def dna_count(DNA):\n",
    "    \n",
    "    #the dictionary for the letters that need to be found\n",
    "    dna_let = {\n",
    "        \"A\" : 0, \"C\" : 0, \n",
    "        \"G\" : 0, \"T\" : 0}\n",
    "\n",
    "    #to count the letters\n",
    "    for letters in DNA:\n",
    "        if letters == \"a\" or letters == \"A\":\n",
    "            dna_let[\"A\"] += 1\n",
    "            \n",
    "        \n",
    "        elif letters == \"c\" or letters == \"C\":\n",
    "            dna_let [\"C\"] += 1\n",
    "            \n",
    "        \n",
    "        elif letters == \"g\" or letters == \"G\":\n",
    "            dna_let [\"G\"] += 1\n",
    "            \n",
    "        \n",
    "        elif letters == \"t\" or letters == \"T\":\n",
    "            dna_let [\"T\"] += 1\n",
    "\n",
    "    print(dna_let)\n"
   ]
  },
  {
   "cell_type": "markdown",
   "id": "604aa2be",
   "metadata": {},
   "source": [
    "just put in one number in between 1 and 4 to run the program"
   ]
  },
  {
   "cell_type": "code",
   "execution_count": 6,
   "id": "4de89f33",
   "metadata": {},
   "outputs": [
    {
     "name": "stdout",
     "output_type": "stream",
     "text": [
      "cGTAaccaataaaaaaacaagcttaacctaattc\n",
      "\n",
      "{'A': 17, 'C': 8, 'G': 2, 'T': 7}\n"
     ]
    }
   ],
   "source": [
    "dna_seq_nr = input(\"which sequence would you like to run? \") #selects the sequence to read\n",
    "\n",
    "    #opens the file\n",
    "dna_raw = open(\"dna_raw.txt\")\n",
    "\n",
    "    #the menu to select sequences\n",
    "if dna_seq_nr == \"1\": #sequence 1\n",
    "    seq1_raw = linecache.getline(\"dna_raw.txt\", 2)\n",
    "    print(seq1_raw)\n",
    "    dna_count(seq1_raw) #counts the letters in the sequence\n",
    "    dna_raw.close()\n",
    "\n",
    "         \n",
    "elif dna_seq_nr == \"2\": #sequence 2\n",
    "    seq2_raw = linecache.getline(\"dna_raw.txt\", 4)\n",
    "    print(seq2_raw)\n",
    "    dna_count(seq2_raw)\n",
    "    dna_raw.close()\n",
    "\n",
    "         \n",
    "elif dna_seq_nr ==\"3\": #sequence 3\n",
    "    seq3_raw = linecache.getline(\"dna_raw.txt\", 6)\n",
    "    print(seq3_raw)\n",
    "    dna_count(seq3_raw)\n",
    "    dna_raw.close()\n",
    "\n",
    "         \n",
    "elif dna_seq_nr ==\"4\": #sequence 4\n",
    "    seq4_raw = linecache.getline(\"dna_raw.txt\", 8)\n",
    "    print(seq4_raw)\n",
    "    dna_count(seq4_raw)\n",
    "    dna_raw.close()\n"
   ]
  }
 ],
 "metadata": {
  "kernelspec": {
   "display_name": "Lab1_python_DE25",
   "language": "python",
   "name": "python3"
  },
  "language_info": {
   "codemirror_mode": {
    "name": "ipython",
    "version": 3
   },
   "file_extension": ".py",
   "mimetype": "text/x-python",
   "name": "python",
   "nbconvert_exporter": "python",
   "pygments_lexer": "ipython3",
   "version": "3.12.10"
  }
 },
 "nbformat": 4,
 "nbformat_minor": 5
}
