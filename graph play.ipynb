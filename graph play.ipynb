{
 "cells": [
  {
   "cell_type": "markdown",
   "id": "dd9ce966",
   "metadata": {},
   "source": [
    "This is me playing with graphs to make them work in my favour"
   ]
  },
  {
   "cell_type": "code",
   "execution_count": null,
   "id": "6f2b74b6",
   "metadata": {},
   "outputs": [],
   "source": [
    "#importing the packedges needed\n",
    "\n",
    "import matplotlib.pyplot as plt\n",
    "\n",
    "import linecache\n",
    "\n",
    "import numpy as np #didnt use numpy in the end"
   ]
  },
  {
   "cell_type": "code",
   "execution_count": 15,
   "id": "683a7718",
   "metadata": {},
   "outputs": [
    {
     "data": {
      "text/plain": [
       "<function matplotlib.pyplot.show(close=None, block=None)>"
      ]
     },
     "execution_count": 15,
     "metadata": {},
     "output_type": "execute_result"
    },
    {
     "data": {
      "image/png": "[encoded data removed]",
      "text/plain": [
       "<Figure size 640x480 with 1 Axes>"
      ]
     },
     "metadata": {},
     "output_type": "display_data"
    }
   ],
   "source": [
    "#following some examples, example found at w3\n",
    "x = np.array([\"A\", \"C\", \"G\", \"T\"])\n",
    "\n",
    "y = np.array([18, 16, 16, 10])\n",
    "\n",
    "plt.bar(x,y)\n",
    "\n",
    "plt.show"
   ]
  },
  {
   "cell_type": "markdown",
   "id": "8d950230",
   "metadata": {},
   "source": [
    "just testing things so just copying and pasting some of my code,\n",
    "\n",
    "this bit is an example of the code without me adding new stuff"
   ]
  },
  {
   "cell_type": "code",
   "execution_count": 1,
   "id": "d1d24783",
   "metadata": {},
   "outputs": [],
   "source": [
    "def dna_count(DNA):\n",
    "    \n",
    "    #the dictionary for the letters that need to be found\n",
    "    dna_let = {\n",
    "        \"A\" : 0, \"C\" : 0, \n",
    "        \"G\" : 0, \"T\" : 0}\n",
    "\n",
    "    #to count the letters\n",
    "    for letters in DNA:\n",
    "        if letters == \"a\" or letters == \"A\":\n",
    "            dna_let[\"A\"] += 1\n",
    "            \n",
    "        \n",
    "        elif letters == \"c\" or letters == \"C\":\n",
    "            dna_let [\"C\"] += 1\n",
    "            \n",
    "        \n",
    "        elif letters == \"g\" or letters == \"G\":\n",
    "            dna_let [\"G\"] += 1\n",
    "            \n",
    "        \n",
    "        elif letters == \"t\" or letters == \"T\":\n",
    "            dna_let [\"T\"] += 1\n",
    "\n",
    "    print(dna_let)\n",
    "    return dna_let\n"
   ]
  },
  {
   "cell_type": "markdown",
   "id": "604aa2be",
   "metadata": {},
   "source": [
    "just put in one number in between 1 and 4 to run the program"
   ]
  },
  {
   "cell_type": "code",
   "execution_count": 19,
   "id": "4de89f33",
   "metadata": {},
   "outputs": [
    {
     "name": "stdout",
     "output_type": "stream",
     "text": [
      "cGTAaccaataaaaaaacaagcttaacctaattc\n",
      "\n",
      "{'A': 17, 'C': 8, 'G': 2, 'T': 7}\n"
     ]
    }
   ],
   "source": [
    "dna_seq_nr = input(\"which sequence would you like to run? \") #selects the sequence to read\n",
    "\n",
    "    #opens the file\n",
    "dna_raw = open(\"dna_raw.txt\")\n",
    "\n",
    "    #the menu to select sequences\n",
    "if dna_seq_nr == \"1\": #sequence 1\n",
    "    seq1_raw = linecache.getline(\"dna_raw.txt\", 2)\n",
    "    print(seq1_raw)\n",
    "    dna_count(seq1_raw) #counts the letters in the sequence\n",
    "    dna_raw.close()\n",
    "\n",
    "         \n",
    "elif dna_seq_nr == \"2\": #sequence 2\n",
    "    seq2_raw = linecache.getline(\"dna_raw.txt\", 4)\n",
    "    print(seq2_raw)\n",
    "    dna_count(seq2_raw)\n",
    "    dna_raw.close()\n",
    "\n",
    "         \n",
    "elif dna_seq_nr ==\"3\": #sequence 3\n",
    "    seq3_raw = linecache.getline(\"dna_raw.txt\", 6)\n",
    "    print(seq3_raw)\n",
    "    dna_count(seq3_raw)\n",
    "    dna_raw.close()\n",
    "\n",
    "         \n",
    "elif dna_seq_nr ==\"4\": #sequence 4\n",
    "    seq4_raw = linecache.getline(\"dna_raw.txt\", 8)\n",
    "    print(seq4_raw)\n",
    "    dna_count(seq4_raw)\n",
    "    dna_raw.close()\n"
   ]
  },
  {
   "cell_type": "markdown",
   "id": "ab1b4957",
   "metadata": {},
   "source": [
    "the easiest solution to my problem is putting in the known numbers from the results of running the program\n",
    "\n",
    "but that is not the correct way to solve this problem"
   ]
  },
  {
   "cell_type": "markdown",
   "id": "0a4022b3",
   "metadata": {},
   "source": [
    "the solution!\n",
    "\n",
    "it was just add a new function that runs the graph"
   ]
  },
  {
   "cell_type": "code",
   "execution_count": null,
   "id": "a93994be",
   "metadata": {},
   "outputs": [],
   "source": [
    "def dna_graph(DNA): #the graph math\n",
    "    x = [\"A\", \"C\", \"G\", \"T\"]\n",
    "\n",
    "    y = [0, 0, 0, 0]\n",
    "\n",
    "    for letters in DNA:\n",
    "        if letters == \"a\" or letters == \"A\":\n",
    "            y[0] += 1\n",
    "            \n",
    "        elif letters == \"c\" or letters == \"C\":\n",
    "            y[1] += 1\n",
    "            \n",
    "        elif letters == \"g\" or letters == \"G\":\n",
    "            y[2] += 1\n",
    "            \n",
    "        elif letters == \"t\" or letters == \"T\":\n",
    "            y[3] += 1\n",
    "    \n",
    "    plt.bar(x, y)\n",
    "    plt.show()"
   ]
  },
  {
   "cell_type": "code",
   "execution_count": null,
   "id": "d9cf20f3",
   "metadata": {},
   "outputs": [
    {
     "name": "stdout",
     "output_type": "stream",
     "text": [
      "agcttagTTTGGatctggccgggg\n",
      "\n",
      "{'A': 3, 'C': 4, 'G': 10, 'T': 7}\n"
     ]
    },
    {
     "data": {
      "image/png": "[encoded data removed]",
      "text/plain": [
       "<Figure size 640x480 with 1 Axes>"
      ]
     },
     "metadata": {},
     "output_type": "display_data"
    }
   ],
   "source": [
    "dna_seq_nr = input(\"which sequence would you like to run? \") #selects the sequence to read\n",
    "\n",
    "\n",
    "\n",
    "    #opens the file\n",
    "dna_raw = open(\"dna_raw.txt\")\n",
    "\n",
    "    #the menu to select sequences\n",
    "if dna_seq_nr == \"1\": #sequence 1\n",
    "    seq1_raw = linecache.getline(\"dna_raw.txt\", 2)\n",
    "    print(seq1_raw)\n",
    "    dna_count(seq1_raw) #counts the letters in the sequence\n",
    "    dna_graph(seq1_raw) #shows the graph related to the sequence\n",
    "    dna_raw.close()\n",
    "    \n",
    "\n",
    "         \n",
    "elif dna_seq_nr == \"2\": #sequence 2\n",
    "    seq2_raw = linecache.getline(\"dna_raw.txt\", 4)\n",
    "    print(seq2_raw)\n",
    "    dna_count(seq2_raw)\n",
    "    dna_graph(seq2_raw)\n",
    "    dna_raw.close()\n",
    "\n",
    "         \n",
    "elif dna_seq_nr ==\"3\": #sequence 3\n",
    "    seq3_raw = linecache.getline(\"dna_raw.txt\", 6)\n",
    "    print(seq3_raw)\n",
    "    dna_count(seq3_raw)\n",
    "    dna_graph(seq3_raw)\n",
    "    dna_raw.close()\n",
    "\n",
    "         \n",
    "elif dna_seq_nr ==\"4\": #sequence 4\n",
    "    seq4_raw = linecache.getline(\"dna_raw.txt\", 8)\n",
    "    print(seq4_raw)\n",
    "    dna_count(seq4_raw)\n",
    "    dna_graph(seq4_raw)\n",
    "    dna_raw.close()"
   ]
  }
 ],
 "metadata": {
  "kernelspec": {
   "display_name": "Lab1_python_DE25",
   "language": "python",
   "name": "python3"
  },
  "language_info": {
   "codemirror_mode": {
    "name": "ipython",
    "version": 3
   },
   "file_extension": ".py",
   "mimetype": "text/x-python",
   "name": "python",
   "nbconvert_exporter": "python",
   "pygments_lexer": "ipython3",
   "version": "3.12.10"
  }
 },
 "nbformat": 4,
 "nbformat_minor": 5
}
